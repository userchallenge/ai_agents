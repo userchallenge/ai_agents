{
 "cells": [
  {
   "cell_type": "code",
   "execution_count": 1,
   "id": "27c6bc2c",
   "metadata": {},
   "outputs": [
    {
     "name": "stdout",
     "output_type": "stream",
     "text": [
      " * Serving Flask app '__main__'\n",
      " * Debug mode: off\n"
     ]
    },
    {
     "name": "stderr",
     "output_type": "stream",
     "text": [
      "WARNING: This is a development server. Do not use it in a production deployment. Use a production WSGI server instead.\n",
      " * Running on http://127.0.0.1:5001\n",
      "Press CTRL+C to quit\n",
      "127.0.0.1 - - [22/Jul/2025 17:00:33] \"GET / HTTP/1.1\" 404 -\n",
      "127.0.0.1 - - [22/Jul/2025 17:00:33] \"GET /favicon.ico HTTP/1.1\" 404 -\n"
     ]
    }
   ],
   "source": [
    "# delivery_service.py\n",
    "from flask import Flask, request, jsonify\n",
    "import configparser\n",
    "\n",
    "# config\n",
    "CONFIG = \"config/config.ini\"\n",
    "config = configparser.ConfigParser()\n",
    "config.read(CONFIG)\n",
    "API_KEY_OPENAI = config[\"API_KEYS\"][\"OPENAI\"]\n",
    "\n",
    "app = Flask(__name__)\n",
    "\n",
    "\n",
    "@app.route(\"/get_delivery_estimate\", methods=[\"POST\"])\n",
    "def get_delivery_estimate():\n",
    "    data = request.json\n",
    "    order_id = data.get(\"order_id\")\n",
    "\n",
    "    # Dummydata\n",
    "    return jsonify(\n",
    "        {\n",
    "            \"order_id\": order_id,\n",
    "            \"estimated_delivery_date\": \"2025-08-20\",\n",
    "            \"status\": \"OK\",\n",
    "            \"warning\": \"Delay due to customs\",\n",
    "        }\n",
    "    )\n",
    "\n",
    "\n",
    "if __name__ == \"__main__\":\n",
    "    app.run(port=5001)"
   ]
  },
  {
   "cell_type": "code",
   "execution_count": 3,
   "id": "0238ae95",
   "metadata": {},
   "outputs": [],
   "source": [
    "tool_definition = {\n",
    "    \"type\": \"function\",\n",
    "    \"function\": {\n",
    "        \"name\": \"get_delivery_estimate\",\n",
    "        \"description\": \"Hämtar uppskattat leveransdatum för en order\",\n",
    "        \"parameters\": {\n",
    "            \"type\": \"object\",\n",
    "            \"properties\": {\n",
    "                \"order_id\": {\n",
    "                    \"type\": \"string\",\n",
    "                    \"description\": \"Order-ID att hämta leveransinfo för\",\n",
    "                }\n",
    "            },\n",
    "            \"required\": [\"order_id\"],\n",
    "        },\n",
    "    },\n",
    "}"
   ]
  },
  {
   "cell_type": "code",
   "execution_count": null,
   "id": "ee93c6b5",
   "metadata": {},
   "outputs": [],
   "source": [
    "from openai import OpenAI\n",
    "import uuid\n",
    "\n",
    "client = OpenAI()\n",
    "\n",
    "# 1. Create the assistant\n",
    "assistant = client.beta.assistants.create(\n",
    "    name=\"Order Inbox Assistant\",\n",
    "    instructions=(\n",
    "        \"Du är en ERP-expert som analyserar inkommande ordermail i strukturerad form. \"\n",
    "        \"Ge förslag på åtgärder baserat på orderns innehåll, särskilt kundkommentarer.\"\n",
    "    ),\n",
    "    model=\"gpt-4o\",\n",
    ")\n",
    "\n",
    "# 2. Prepare structured MCP context (the parsed order)\n",
    "order_mcp = {\n",
    "    \"type\": \"incoming_order_email\",\n",
    "    \"order_id\": \"11223\",\n",
    "    \"customer\": \"Volvo AB\",\n",
    "    \"delivery_date\": \"2025-08-15\",\n",
    "    \"line_items\": [{\"product\": \"Produkt A\", \"quantity\": 3}],\n",
    "    \"parsed_comments\": [\n",
    "        \"Kunden vill ha delad fakturering.\",\n",
    "        \"Viktigt att detta levereras före 15 augusti.\",\n",
    "    ],\n",
    "}\n",
    "\n",
    "# 3. Create a new thread (conversation)\n",
    "thread = client.beta.threads.create()\n",
    "\n",
    "# 4. Send a message + attach the MCP context as `custom_data`\n",
    "run = client.beta.threads.runs.create(\n",
    "    thread_id=thread.id,\n",
    "    assistant_id=assistant.id,\n",
    "    additional_messages=[\n",
    "        {\n",
    "            \"role\": \"user\",\n",
    "            \"content\": \"Här är en ny order att hantera.\",\n",
    "        }\n",
    "    ],\n",
    "    custom_data={\"incoming_order_email\": order_mcp},\n",
    ")\n",
    "\n",
    "# 5. Poll until the run completes (or use a webhook)\n",
    "import time\n",
    "\n",
    "while True:\n",
    "    run_status = client.beta.threads.runs.retrieve(thread_id=thread.id, run_id=run.id)\n",
    "    if run_status.status in [\"completed\", \"failed\", \"cancelled\"]:\n",
    "        break\n",
    "    time.sleep(1)\n",
    "\n",
    "# 6. Fetch the final response from the assistant\n",
    "messages = client.beta.threads.messages.list(thread_id=thread.id)\n",
    "for message in messages.data:\n",
    "    if message.role == \"assistant\":\n",
    "        print(\"\\nAssistant's reply:\\n\")\n",
    "        print(message.content[0].text.value)"
   ]
  },
  {
   "cell_type": "code",
   "execution_count": 4,
   "id": "87765e7d",
   "metadata": {},
   "outputs": [],
   "source": [
    "from openai import OpenAI\n",
    "\n",
    "client = OpenAI(api_key=API_KEY_OPENAI)\n",
    "\n",
    "assistant = client.beta.assistants.create(\n",
    "    name=\"Order & Delivery Assistant\",\n",
    "    instructions=\"\"\"\n",
    "    Du hjälper till att hantera inkommande ordrar.\n",
    "    För varje order analyserar du informationen och använder verktyget get_delivery_estimate vid behov.\n",
    "    Föreslå åtgärder utifrån status, datum och orderkommentarer.\n",
    "    \"\"\",\n",
    "    model=\"gpt-4o\",\n",
    "    tools=[tool_definition],\n",
    ")"
   ]
  },
  {
   "cell_type": "code",
   "execution_count": 5,
   "id": "1a216540",
   "metadata": {},
   "outputs": [
    {
     "name": "stderr",
     "output_type": "stream",
     "text": [
      "/var/folders/8d/zz072l3d0mv392k_mtqd_3tr0000gn/T/ipykernel_17922/524724502.py:13: DeprecationWarning: The Assistants API is deprecated in favor of the Responses API\n",
      "  thread = client.beta.threads.create()\n",
      "/var/folders/8d/zz072l3d0mv392k_mtqd_3tr0000gn/T/ipykernel_17922/524724502.py:15: DeprecationWarning: The Assistants API is deprecated in favor of the Responses API\n",
      "  client.beta.threads.messages.create(\n"
     ]
    },
    {
     "ename": "TypeError",
     "evalue": "Messages.create() got an unexpected keyword argument 'file_data'",
     "output_type": "error",
     "traceback": [
      "\u001b[31m---------------------------------------------------------------------------\u001b[39m",
      "\u001b[31mTypeError\u001b[39m                                 Traceback (most recent call last)",
      "\u001b[36mCell\u001b[39m\u001b[36m \u001b[39m\u001b[32mIn[5]\u001b[39m\u001b[32m, line 15\u001b[39m\n\u001b[32m      1\u001b[39m order_mcp = {\n\u001b[32m      2\u001b[39m     \u001b[33m\"\u001b[39m\u001b[33mtype\u001b[39m\u001b[33m\"\u001b[39m: \u001b[33m\"\u001b[39m\u001b[33mincoming_order_email\u001b[39m\u001b[33m\"\u001b[39m,\n\u001b[32m      3\u001b[39m     \u001b[33m\"\u001b[39m\u001b[33morder_id\u001b[39m\u001b[33m\"\u001b[39m: \u001b[33m\"\u001b[39m\u001b[33m11223\u001b[39m\u001b[33m\"\u001b[39m,\n\u001b[32m   (...)\u001b[39m\u001b[32m     10\u001b[39m     ],\n\u001b[32m     11\u001b[39m }\n\u001b[32m     13\u001b[39m thread = client.beta.threads.create()\n\u001b[32m---> \u001b[39m\u001b[32m15\u001b[39m \u001b[43mclient\u001b[49m\u001b[43m.\u001b[49m\u001b[43mbeta\u001b[49m\u001b[43m.\u001b[49m\u001b[43mthreads\u001b[49m\u001b[43m.\u001b[49m\u001b[43mmessages\u001b[49m\u001b[43m.\u001b[49m\u001b[43mcreate\u001b[49m\u001b[43m(\u001b[49m\n\u001b[32m     16\u001b[39m \u001b[43m    \u001b[49m\u001b[43mthread_id\u001b[49m\u001b[43m=\u001b[49m\u001b[43mthread\u001b[49m\u001b[43m.\u001b[49m\u001b[43mid\u001b[49m\u001b[43m,\u001b[49m\n\u001b[32m     17\u001b[39m \u001b[43m    \u001b[49m\u001b[43mrole\u001b[49m\u001b[43m=\u001b[49m\u001b[33;43m\"\u001b[39;49m\u001b[33;43muser\u001b[39;49m\u001b[33;43m\"\u001b[39;49m\u001b[43m,\u001b[49m\n\u001b[32m     18\u001b[39m \u001b[43m    \u001b[49m\u001b[43mcontent\u001b[49m\u001b[43m=\u001b[49m\u001b[33;43m\"\u001b[39;49m\u001b[33;43mHär är en ny order att hantera.\u001b[39;49m\u001b[33;43m\"\u001b[39;49m\u001b[43m,\u001b[49m\n\u001b[32m     19\u001b[39m \u001b[43m    \u001b[49m\u001b[43mfile_data\u001b[49m\u001b[43m=\u001b[49m\u001b[43m{\u001b[49m\u001b[33;43m\"\u001b[39;49m\u001b[33;43mincoming_order_email\u001b[39;49m\u001b[33;43m\"\u001b[39;49m\u001b[43m:\u001b[49m\u001b[43m \u001b[49m\u001b[43morder_mcp\u001b[49m\u001b[43m}\u001b[49m\u001b[43m,\u001b[49m\n\u001b[32m     20\u001b[39m \u001b[43m)\u001b[49m\n",
      "\u001b[36mFile \u001b[39m\u001b[32m~/Python/ai_agents/venv/lib/python3.12/site-packages/typing_extensions.py:2956\u001b[39m, in \u001b[36mdeprecated.__call__.<locals>.wrapper\u001b[39m\u001b[34m(*args, **kwargs)\u001b[39m\n\u001b[32m   2953\u001b[39m \u001b[38;5;129m@functools\u001b[39m.wraps(arg)\n\u001b[32m   2954\u001b[39m \u001b[38;5;28;01mdef\u001b[39;00m\u001b[38;5;250m \u001b[39m\u001b[34mwrapper\u001b[39m(*args, **kwargs):\n\u001b[32m   2955\u001b[39m     warnings.warn(msg, category=category, stacklevel=stacklevel + \u001b[32m1\u001b[39m)\n\u001b[32m-> \u001b[39m\u001b[32m2956\u001b[39m     \u001b[38;5;28;01mreturn\u001b[39;00m \u001b[43marg\u001b[49m\u001b[43m(\u001b[49m\u001b[43m*\u001b[49m\u001b[43margs\u001b[49m\u001b[43m,\u001b[49m\u001b[43m \u001b[49m\u001b[43m*\u001b[49m\u001b[43m*\u001b[49m\u001b[43mkwargs\u001b[49m\u001b[43m)\u001b[49m\n",
      "\u001b[31mTypeError\u001b[39m: Messages.create() got an unexpected keyword argument 'file_data'"
     ]
    }
   ],
   "source": [
    "order_mcp = {\n",
    "    \"type\": \"incoming_order_email\",\n",
    "    \"order_id\": \"11223\",\n",
    "    \"customer\": \"Volvo AB\",\n",
    "    \"delivery_date\": \"2025-08-15\",\n",
    "    \"line_items\": [{\"product\": \"Produkt A\", \"quantity\": 3}],\n",
    "    \"parsed_comments\": [\n",
    "        \"Kunden vill ha delad fakturering.\",\n",
    "        \"Viktigt att detta levereras före 15 augusti.\",\n",
    "    ],\n",
    "}\n",
    "\n",
    "thread = client.beta.threads.create()\n",
    "\n",
    "client.beta.threads.messages.create(\n",
    "    thread_id=thread.id,\n",
    "    role=\"user\",\n",
    "    content=\"Här är en ny order att hantera.\",\n",
    "    file_data={\"incoming_order_email\": order_mcp},\n",
    ")"
   ]
  },
  {
   "cell_type": "code",
   "execution_count": null,
   "id": "c9161142",
   "metadata": {},
   "outputs": [],
   "source": [
    "run = client.beta.threads.runs.create(thread_id=thread.id, assistant_id=assistant.id)"
   ]
  },
  {
   "cell_type": "code",
   "execution_count": null,
   "id": "6fdea9d4",
   "metadata": {},
   "outputs": [],
   "source": [
    "tool_calls = run.required_action.submit_tool_outputs.tool_calls\n",
    "\n",
    "# Kör lokalt API-anrop till Flask-servern\n",
    "import requests\n",
    "\n",
    "api_response = requests.post(\n",
    "    \"http://localhost:5001/get_delivery_estimate\",\n",
    "    json={\"order_id\": tool_calls[0].function.arguments[\"order_id\"]},\n",
    ").json()\n",
    "\n",
    "# Skicka tillbaka resultatet till assistenten\n",
    "client.beta.threads.runs.submit_tool_outputs(\n",
    "    thread_id=thread.id,\n",
    "    run_id=run.id,\n",
    "    tool_outputs=[{\"tool_call_id\": tool_calls[0].id, \"output\": api_response}],\n",
    ")"
   ]
  }
 ],
 "metadata": {
  "kernelspec": {
   "display_name": "venv",
   "language": "python",
   "name": "python3"
  },
  "language_info": {
   "codemirror_mode": {
    "name": "ipython",
    "version": 3
   },
   "file_extension": ".py",
   "mimetype": "text/x-python",
   "name": "python",
   "nbconvert_exporter": "python",
   "pygments_lexer": "ipython3",
   "version": "3.12.9"
  }
 },
 "nbformat": 4,
 "nbformat_minor": 5
}
