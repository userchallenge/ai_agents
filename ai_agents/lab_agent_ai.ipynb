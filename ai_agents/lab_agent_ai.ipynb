{
 "cells": [
  {
   "cell_type": "code",
   "execution_count": null,
   "id": "72e2cef7",
   "metadata": {},
   "outputs": [
    {
     "name": "stdout",
     "output_type": "stream",
     "text": [
      "✅ API key is working. Available models:\n",
      "- gpt-4-0613\n",
      "- gpt-4\n",
      "- gpt-3.5-turbo\n",
      "- o4-mini-deep-research-2025-06-26\n",
      "- codex-mini-latest\n"
     ]
    }
   ],
   "source": [
    "import openai\n",
    "import configparser\n",
    "\n",
    "# config\n",
    "CONFIG = \"config/config.ini\"\n",
    "config = configparser.ConfigParser()\n",
    "config.read(CONFIG)\n",
    "API_KEY_OPENAI = config[\"API_KEYS\"][\"OPENAI\"]\n",
    "\n",
    "# Replace this with your actual API key\n",
    "openai.api_key = API_KEY_OPENAI\n",
    "\n",
    "try:\n",
    "    models = openai.models.list()\n",
    "    print(\"✅ API key is working. Available models:\")\n",
    "    for model in models.data[:5]:  # Just show first 5 models\n",
    "        print(\"-\", model.id)\n",
    "except openai.error.AuthenticationError:\n",
    "    print(\"❌ Authentication failed: Invalid API key.\")\n",
    "except Exception as e:\n",
    "    print(f\"❌ Some other error occurred: {e}\")"
   ]
  },
  {
   "cell_type": "code",
   "execution_count": null,
   "id": "8d55f783",
   "metadata": {},
   "outputs": [
    {
     "data": {
      "text/html": [
       "<pre style=\"white-space:pre;overflow-x:auto;line-height:normal;font-family:Menlo,'DejaVu Sans Mono',consolas,'Courier New',monospace\"><span style=\"color: #000080; text-decoration-color: #000080; font-weight: bold\">You:</span> </pre>\n"
      ],
      "text/plain": [
       "\u001b[1;34mYou:\u001b[0m "
      ]
     },
     "metadata": {},
     "output_type": "display_data"
    },
    {
     "data": {
      "text/html": [
       "<pre style=\"white-space:pre;overflow-x:auto;line-height:normal;font-family:Menlo,'DejaVu Sans Mono',consolas,'Courier New',monospace\">Agent:  <span style=\"font-weight: bold\">{</span>\n",
       "  <span style=\"color: #000080; text-decoration-color: #000080; font-weight: bold\">\"chat_message\"</span>: <span style=\"color: #008000; text-decoration-color: #008000\">\"Hello! It looks like you're testing things out. If you have any questions or need assistance </span>\n",
       "<span style=\"color: #008000; text-decoration-color: #008000\">with something specific, feel free to ask!\"</span>\n",
       "<span style=\"font-weight: bold\">}</span>\n",
       "</pre>\n"
      ],
      "text/plain": [
       "Agent:  \u001b[1m{\u001b[0m\n",
       "  \u001b[1;34m\"chat_message\"\u001b[0m: \u001b[32m\"Hello! It looks like you're testing things out. If you have any questions or need assistance \u001b[0m\n",
       "\u001b[32mwith something specific, feel free to ask!\"\u001b[0m\n",
       "\u001b[1m}\u001b[0m\n"
      ]
     },
     "metadata": {},
     "output_type": "display_data"
    },
    {
     "data": {
      "text/html": [
       "<pre style=\"white-space:pre;overflow-x:auto;line-height:normal;font-family:Menlo,'DejaVu Sans Mono',consolas,'Courier New',monospace\"><span style=\"color: #000080; text-decoration-color: #000080; font-weight: bold\">You:</span> </pre>\n"
      ],
      "text/plain": [
       "\u001b[1;34mYou:\u001b[0m "
      ]
     },
     "metadata": {},
     "output_type": "display_data"
    },
    {
     "data": {
      "text/html": [
       "<pre style=\"white-space:pre;overflow-x:auto;line-height:normal;font-family:Menlo,'DejaVu Sans Mono',consolas,'Courier New',monospace\">Agent:  <span style=\"font-weight: bold\">{</span>\n",
       "  <span style=\"color: #000080; text-decoration-color: #000080; font-weight: bold\">\"chat_message\"</span>: <span style=\"color: #008000; text-decoration-color: #008000\">\"Today's date is October 4, 2023.\"</span>\n",
       "<span style=\"font-weight: bold\">}</span>\n",
       "</pre>\n"
      ],
      "text/plain": [
       "Agent:  \u001b[1m{\u001b[0m\n",
       "  \u001b[1;34m\"chat_message\"\u001b[0m: \u001b[32m\"Today's date is October 4, 2023.\"\u001b[0m\n",
       "\u001b[1m}\u001b[0m\n"
      ]
     },
     "metadata": {},
     "output_type": "display_data"
    },
    {
     "data": {
      "text/html": [
       "<pre style=\"white-space:pre;overflow-x:auto;line-height:normal;font-family:Menlo,'DejaVu Sans Mono',consolas,'Courier New',monospace\"><span style=\"color: #000080; text-decoration-color: #000080; font-weight: bold\">You:</span> </pre>\n"
      ],
      "text/plain": [
       "\u001b[1;34mYou:\u001b[0m "
      ]
     },
     "metadata": {},
     "output_type": "display_data"
    },
    {
     "data": {
      "text/html": [
       "<pre style=\"white-space:pre;overflow-x:auto;line-height:normal;font-family:Menlo,'DejaVu Sans Mono',consolas,'Courier New',monospace\">Agent:  <span style=\"font-weight: bold\">{</span>\n",
       "  <span style=\"color: #000080; text-decoration-color: #000080; font-weight: bold\">\"chat_message\"</span>: <span style=\"color: #008000; text-decoration-color: #008000\">\"I apologize for any confusion. Let me clarify: today is actually November 2, 2023. If you need </span>\n",
       "<span style=\"color: #008000; text-decoration-color: #008000\">assistance with anything else or have further questions, just let me know!\"</span>\n",
       "<span style=\"font-weight: bold\">}</span>\n",
       "</pre>\n"
      ],
      "text/plain": [
       "Agent:  \u001b[1m{\u001b[0m\n",
       "  \u001b[1;34m\"chat_message\"\u001b[0m: \u001b[32m\"I apologize for any confusion. Let me clarify: today is actually November 2, 2023. If you need \u001b[0m\n",
       "\u001b[32massistance with anything else or have further questions, just let me know!\"\u001b[0m\n",
       "\u001b[1m}\u001b[0m\n"
      ]
     },
     "metadata": {},
     "output_type": "display_data"
    },
    {
     "data": {
      "text/html": [
       "<pre style=\"white-space:pre;overflow-x:auto;line-height:normal;font-family:Menlo,'DejaVu Sans Mono',consolas,'Courier New',monospace\"><span style=\"color: #000080; text-decoration-color: #000080; font-weight: bold\">You:</span> </pre>\n"
      ],
      "text/plain": [
       "\u001b[1;34mYou:\u001b[0m "
      ]
     },
     "metadata": {},
     "output_type": "display_data"
    },
    {
     "data": {
      "text/html": [
       "<pre style=\"white-space:pre;overflow-x:auto;line-height:normal;font-family:Menlo,'DejaVu Sans Mono',consolas,'Courier New',monospace\">Agent:  <span style=\"font-weight: bold\">{</span>\n",
       "  <span style=\"color: #000080; text-decoration-color: #000080; font-weight: bold\">\"chat_message\"</span>: <span style=\"color: #008000; text-decoration-color: #008000\">\"It seems like your message was empty. If you have a question or need assistance, please type it </span>\n",
       "<span style=\"color: #008000; text-decoration-color: #008000\">out, and I'll be happy to help!\"</span>\n",
       "<span style=\"font-weight: bold\">}</span>\n",
       "</pre>\n"
      ],
      "text/plain": [
       "Agent:  \u001b[1m{\u001b[0m\n",
       "  \u001b[1;34m\"chat_message\"\u001b[0m: \u001b[32m\"It seems like your message was empty. If you have a question or need assistance, please type it \u001b[0m\n",
       "\u001b[32mout, and I'll be happy to help!\"\u001b[0m\n",
       "\u001b[1m}\u001b[0m\n"
      ]
     },
     "metadata": {},
     "output_type": "display_data"
    },
    {
     "data": {
      "text/html": [
       "<pre style=\"white-space:pre;overflow-x:auto;line-height:normal;font-family:Menlo,'DejaVu Sans Mono',consolas,'Courier New',monospace\"><span style=\"color: #000080; text-decoration-color: #000080; font-weight: bold\">You:</span> </pre>\n"
      ],
      "text/plain": [
       "\u001b[1;34mYou:\u001b[0m "
      ]
     },
     "metadata": {},
     "output_type": "display_data"
    }
   ],
   "source": [
    "import os\n",
    "import instructor\n",
    "import openai\n",
    "from rich.console import Console\n",
    "from atomic_agents.lib.components.agent_memory import AgentMemory\n",
    "from atomic_agents.agents.base_agent import (\n",
    "    BaseAgent,\n",
    "    BaseAgentConfig,\n",
    "    BaseAgentInputSchema,\n",
    "    BaseAgentOutputSchema,\n",
    ")\n",
    "import configparser\n",
    "\n",
    "# config\n",
    "CONFIG = \"config/config.ini\"\n",
    "config = configparser.ConfigParser()\n",
    "config.read(CONFIG)\n",
    "API_KEY_OPENAI = config[\"API_KEYS\"][\"OPENAI\"]\n",
    "\n",
    "# Initialize console for pretty outputs\n",
    "console = Console()\n",
    "\n",
    "# Memory setup\n",
    "memory = AgentMemory()\n",
    "\n",
    "# Initialize memory with an initial message from the assistant\n",
    "initial_message = BaseAgentOutputSchema(\n",
    "    chat_message=\"Hello! How can I assist you today?\"\n",
    ")\n",
    "memory.add_message(\"assistant\", initial_message)\n",
    "\n",
    "# OpenAI client setup using the Instructor library\n",
    "client = instructor.from_openai(openai.OpenAI(api_key=API_KEY_OPENAI))\n",
    "\n",
    "# Agent setup with specified configuration\n",
    "agent = BaseAgent(\n",
    "    config=BaseAgentConfig(\n",
    "        client=client,\n",
    "        model=\"gpt-4o-mini\",  # Using gpt-4o-mini model\n",
    "        memory=memory,\n",
    "    )\n",
    ")\n",
    "\n",
    "# Start a loop to handle user inputs and agent responses\n",
    "while True:\n",
    "    # Prompt the user for input\n",
    "    user_input = console.input(\"[bold blue]You:[/bold blue] \")\n",
    "    # Check if the user wants to exit the chat\n",
    "    if user_input.lower() in [\"/exit\", \"/quit\"]:\n",
    "        console.print(\"Exiting chat...\")\n",
    "        break\n",
    "\n",
    "    # Process the user's input through the agent and get the response\n",
    "    input_schema = BaseAgentInputSchema(chat_message=user_input)\n",
    "    response = agent.run(input_schema)\n",
    "\n",
    "    # Display the agent's response\n",
    "    console.print(\"Agent: \", response)"
   ]
  }
 ],
 "metadata": {
  "kernelspec": {
   "display_name": "venv",
   "language": "python",
   "name": "python3"
  },
  "language_info": {
   "codemirror_mode": {
    "name": "ipython",
    "version": 3
   },
   "file_extension": ".py",
   "mimetype": "text/x-python",
   "name": "python",
   "nbconvert_exporter": "python",
   "pygments_lexer": "ipython3",
   "version": "3.12.9"
  }
 },
 "nbformat": 4,
 "nbformat_minor": 5
}
